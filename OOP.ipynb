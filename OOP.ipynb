{
  "nbformat": 4,
  "nbformat_minor": 0,
  "metadata": {
    "colab": {
      "provenance": [],
      "authorship_tag": "ABX9TyMJQSwXeZAE2nqLBNtrnQGU",
      "include_colab_link": true
    },
    "kernelspec": {
      "name": "python3",
      "display_name": "Python 3"
    },
    "language_info": {
      "name": "python"
    }
  },
  "cells": [
    {
      "cell_type": "markdown",
      "metadata": {
        "id": "view-in-github",
        "colab_type": "text"
      },
      "source": [
        "<a href=\"https://colab.research.google.com/github/MuhammadQasim111/STUDENT-PERFORMANCE-TRACKER-OOP-PYTHON-BASED-PROJECT/blob/main/OOP.ipynb\" target=\"_parent\"><img src=\"https://colab.research.google.com/assets/colab-badge.svg\" alt=\"Open In Colab\"/></a>"
      ]
    },
    {
      "cell_type": "code",
      "execution_count": null,
      "metadata": {
        "id": "y0Fsxth2lgt8"
      },
      "outputs": [],
      "source": [
        "# checking whether student is passed or not and determining the average score\n",
        "\n",
        "class Student:\n",
        "    def __init__(self, name, scores):\n",
        "        self.name = name\n",
        "        self.scores = scores\n",
        "\n",
        "    def calculate_average(self):\n",
        "        return sum(self.scores) / len(self.scores)\n",
        "\n",
        "    def is_passing(self, passing_score=40):\n",
        "        return all(score >= passing_score for score in self.scores)\n",
        "\n",
        "\n",
        "# checking if the given name has been inserted before or not\n",
        "class PerformanceTracker:\n",
        "    def __init__(self):\n",
        "        self.students = {}\n",
        "\n",
        "    def add_student(self, name, scores):\n",
        "        if name in self.students:\n",
        "            print(f\"Student {name} already exists. Updating scores.\")\n",
        "        self.students[name] = Student(name, scores)\n",
        "\n",
        "    def calculate_class_average(self):\n",
        "        if not self.students:\n",
        "            return 0\n",
        "        total_average = sum(student.calculate_average() for student in self.students.values())\n",
        "        return total_average / len(self.students)\n",
        "\n",
        "# displaying student performance\n",
        "\n",
        "    def display_student_performance(self):\n",
        "        if not self.students:\n",
        "            print(\"No students to display.\")\n",
        "            return\n",
        "        for name, student in self.students.items():\n",
        "            average = student.calculate_average()\n",
        "            status = \"Passing\" if student.is_passing() else \"Needs Improvement\"\n",
        "            print(f\"Student: {name}, Average Score: {average:.2f}, Status: {status}\")\n",
        "\n",
        "# Limiting  to three iterations\n",
        "\n",
        "def main():\n",
        "    tracker = PerformanceTracker()\n",
        "    max_students = 3\n",
        "    for _ in range(max_students):\n",
        "        try:\n",
        "            name = input(\"Enter student's name: \").strip()\n",
        "            scores = []\n",
        "            for subject in ['Math', 'Science', 'English']:\n",
        "                while True:\n",
        "                    try:\n",
        "                        score = int(input(f\"Enter score for {subject}: \"))\n",
        "                        if score < 0 or score > 100:\n",
        "                            raise ValueError(\"Score must be between 0 and 100.\")\n",
        "                        scores.append(score)\n",
        "                        break\n",
        "                    except ValueError as e:\n",
        "                        print(f\"Invalid input. {e}\")\n",
        "            tracker.add_student(name, scores)\n",
        "\n",
        "        except Exception as e:\n",
        "            print(f\"Error: {e}\")\n",
        "\n",
        "    print(\"\\n=== Student Performance ===\")\n",
        "    tracker.display_student_performance()\n",
        "    class_average = tracker.calculate_class_average()\n",
        "    print(f\"\\nClass Average Score: {class_average:.2f}\")\n",
        "\n",
        "\n",
        "if __name__ == \"__main__\":\n",
        "    main()\n"
      ]
    }
  ]
}